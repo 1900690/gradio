{
  "nbformat": 4,
  "nbformat_minor": 0,
  "metadata": {
    "colab": {
      "provenance": [],
      "authorship_tag": "ABX9TyMEhP2rpfykVYQ4pL8K8jGt",
      "include_colab_link": true
    },
    "kernelspec": {
      "name": "python3",
      "display_name": "Python 3"
    },
    "language_info": {
      "name": "python"
    }
  },
  "cells": [
    {
      "cell_type": "markdown",
      "metadata": {
        "id": "view-in-github",
        "colab_type": "text"
      },
      "source": [
        "<a href=\"https://colab.research.google.com/github/1900690/gradio/blob/main/gradio_training.ipynb\" target=\"_parent\"><img src=\"https://colab.research.google.com/assets/colab-badge.svg\" alt=\"Open In Colab\"/></a>"
      ]
    },
    {
      "cell_type": "markdown",
      "source": [
        "[Google Colab上でwebアプリが作れるGradioの使い方](https://clameyes.com/posts/google-colab-web-app-gradio)"
      ],
      "metadata": {
        "id": "cXp57yWcKMD_"
      }
    },
    {
      "cell_type": "markdown",
      "source": [
        "##※認証がある場合はID;test pass:gradio"
      ],
      "metadata": {
        "id": "nkCz8ppzWEtC"
      }
    },
    {
      "cell_type": "code",
      "execution_count": 1,
      "metadata": {
        "id": "1ydajSXTJ3y8",
        "cellView": "form"
      },
      "outputs": [],
      "source": [
        "#@title gradioライブラリをインストール\n",
        "#@markdown この共有リンクの有効期限は1週間です。永続的なホスティングとGPUのアップグレードを無料で行うには、作業ディレクトリのターミナルから `gradio deploy` を実行し、Hugging Face Spaces (https://huggingface.co/spaces) にデプロイしてください。\n",
        "!pip -q install gradio"
      ]
    },
    {
      "cell_type": "code",
      "source": [
        "#@title 指定したテキストを返すアプリ\n",
        "import gradio as gr\n",
        "\n",
        "# 関数を定義\n",
        "def greet(name):\n",
        "    return \"Hello \" + name + \"!\"\n",
        "\n",
        "# Webアプリを作成\n",
        "app = gr.Interface(fn=greet, inputs=\"text\", outputs=\"text\")\n",
        "# Webアプリを起動\n",
        "app.launch(share=True, auth=(\"test\", \"gradio\"))"
      ],
      "metadata": {
        "id": "z-Ns6regKKSF",
        "outputId": "62d0a225-4bb5-4ef0-942d-217f37a28613",
        "colab": {
          "base_uri": "https://localhost:8080/",
          "height": 613
        },
        "cellView": "form"
      },
      "execution_count": null,
      "outputs": [
        {
          "output_type": "stream",
          "name": "stdout",
          "text": [
            "Colab notebook detected. To show errors in colab notebook, set debug=True in launch()\n",
            "* Running on public URL: https://d2db3a0419addaceb0.gradio.live\n",
            "\n",
            "This share link expires in 1 week. For free permanent hosting and GPU upgrades, run `gradio deploy` from the terminal in the working directory to deploy to Hugging Face Spaces (https://huggingface.co/spaces)\n"
          ]
        },
        {
          "output_type": "display_data",
          "data": {
            "text/plain": [
              "<IPython.core.display.HTML object>"
            ],
            "text/html": [
              "<div><iframe src=\"https://d2db3a0419addaceb0.gradio.live\" width=\"100%\" height=\"500\" allow=\"autoplay; camera; microphone; clipboard-read; clipboard-write;\" frameborder=\"0\" allowfullscreen></iframe></div>"
            ]
          },
          "metadata": {}
        },
        {
          "output_type": "execute_result",
          "data": {
            "text/plain": []
          },
          "metadata": {},
          "execution_count": 4
        }
      ]
    },
    {
      "cell_type": "code",
      "source": [
        "#@title スライダーで数を定義するアプリ\n",
        "import gradio as gr\n",
        "\n",
        "# 関数を定義\n",
        "def count(number):\n",
        "    return \"数字は \" + str(number) + \"!\"\n",
        "\n",
        "# Webアプリを作成\n",
        "app = gr.Interface(fn=count, inputs=\"slider\", outputs=\"text\")\n",
        "# Webアプリを起動\n",
        "app.launch(share=True, auth=(\"test\", \"gradio\"))"
      ],
      "metadata": {
        "id": "fokzlb8rLGfn",
        "outputId": "3253afdd-4e40-4e66-d71b-57865f39f6d5",
        "colab": {
          "base_uri": "https://localhost:8080/",
          "height": 613
        },
        "cellView": "form"
      },
      "execution_count": null,
      "outputs": [
        {
          "output_type": "stream",
          "name": "stdout",
          "text": [
            "Colab notebook detected. To show errors in colab notebook, set debug=True in launch()\n",
            "* Running on public URL: https://1d38daa5056d6f920f.gradio.live\n",
            "\n",
            "This share link expires in 1 week. For free permanent hosting and GPU upgrades, run `gradio deploy` from the terminal in the working directory to deploy to Hugging Face Spaces (https://huggingface.co/spaces)\n"
          ]
        },
        {
          "output_type": "display_data",
          "data": {
            "text/plain": [
              "<IPython.core.display.HTML object>"
            ],
            "text/html": [
              "<div><iframe src=\"https://1d38daa5056d6f920f.gradio.live\" width=\"100%\" height=\"500\" allow=\"autoplay; camera; microphone; clipboard-read; clipboard-write;\" frameborder=\"0\" allowfullscreen></iframe></div>"
            ]
          },
          "metadata": {}
        },
        {
          "output_type": "execute_result",
          "data": {
            "text/plain": []
          },
          "metadata": {},
          "execution_count": 8
        }
      ]
    },
    {
      "cell_type": "markdown",
      "source": [
        "[Google ColabでGUI｜gradioを利用したウェブアプリの作り方を解説](https://tech.aru-zakki.com/gradio-on-google-colab/)"
      ],
      "metadata": {
        "id": "0LwBKY_PL6Rf"
      }
    },
    {
      "cell_type": "code",
      "source": [
        "#@title 画像をフィルターに通すアプリ\n",
        "import numpy as np\n",
        "import gradio as gr\n",
        "\n",
        "#セピアフィルターを定義\n",
        "def sepia(input_img):\n",
        "    sepia_filter = np.array([\n",
        "        [0.393, 0.769, 0.189],\n",
        "        [0.349, 0.686, 0.168],\n",
        "        [0.272, 0.534, 0.131]\n",
        "    ])\n",
        "    sepia_img = input_img.dot(sepia_filter.T)\n",
        "    sepia_img /= sepia_img.max()\n",
        "    return sepia_img\n",
        "\n",
        "app = gr.Interface(sepia, gr.Image(), \"image\")\n",
        "# Webアプリを起動\n",
        "app.launch(share=True, auth=(\"test\", \"gradio\"))"
      ],
      "metadata": {
        "cellView": "form",
        "id": "3f_7XmVqVJ9F",
        "outputId": "58e38103-6a72-460e-ed8d-7f2f29f6cae8",
        "colab": {
          "base_uri": "https://localhost:8080/",
          "height": 613
        }
      },
      "execution_count": 2,
      "outputs": [
        {
          "output_type": "stream",
          "name": "stdout",
          "text": [
            "Colab notebook detected. To show errors in colab notebook, set debug=True in launch()\n",
            "* Running on public URL: https://402e2f7432d4e668b6.gradio.live\n",
            "\n",
            "This share link expires in 1 week. For free permanent hosting and GPU upgrades, run `gradio deploy` from the terminal in the working directory to deploy to Hugging Face Spaces (https://huggingface.co/spaces)\n"
          ]
        },
        {
          "output_type": "display_data",
          "data": {
            "text/plain": [
              "<IPython.core.display.HTML object>"
            ],
            "text/html": [
              "<div><iframe src=\"https://402e2f7432d4e668b6.gradio.live\" width=\"100%\" height=\"500\" allow=\"autoplay; camera; microphone; clipboard-read; clipboard-write;\" frameborder=\"0\" allowfullscreen></iframe></div>"
            ]
          },
          "metadata": {}
        },
        {
          "output_type": "execute_result",
          "data": {
            "text/plain": []
          },
          "metadata": {},
          "execution_count": 2
        }
      ]
    },
    {
      "cell_type": "code",
      "source": [
        "#@title　入力した値を覚えるアプリ\n",
        "import gradio as gr\n",
        "\n",
        "scores = []\n",
        "\n",
        "def track_score(score):\n",
        "    scores.append(score)\n",
        "    top_scores = sorted(scores, reverse=True)[:3]\n",
        "    return top_scores\n",
        "\n",
        "app = gr.Interface(\n",
        "    track_score,\n",
        "    gr.Number(label=\"Score\"),\n",
        "    gr.JSON(label=\"Top Scores\")\n",
        ")\n",
        "app.launch(share=True, auth=(\"test\", \"gradio\"))"
      ],
      "metadata": {
        "cellView": "form",
        "id": "9u7nPojYXIms",
        "outputId": "48df5eb2-fb27-4595-b26c-233fe5948b26",
        "colab": {
          "base_uri": "https://localhost:8080/",
          "height": 613
        }
      },
      "execution_count": 3,
      "outputs": [
        {
          "output_type": "stream",
          "name": "stdout",
          "text": [
            "Colab notebook detected. To show errors in colab notebook, set debug=True in launch()\n",
            "* Running on public URL: https://cd3b70f4d607c1eddb.gradio.live\n",
            "\n",
            "This share link expires in 1 week. For free permanent hosting and GPU upgrades, run `gradio deploy` from the terminal in the working directory to deploy to Hugging Face Spaces (https://huggingface.co/spaces)\n"
          ]
        },
        {
          "output_type": "display_data",
          "data": {
            "text/plain": [
              "<IPython.core.display.HTML object>"
            ],
            "text/html": [
              "<div><iframe src=\"https://cd3b70f4d607c1eddb.gradio.live\" width=\"100%\" height=\"500\" allow=\"autoplay; camera; microphone; clipboard-read; clipboard-write;\" frameborder=\"0\" allowfullscreen></iframe></div>"
            ]
          },
          "metadata": {}
        },
        {
          "output_type": "execute_result",
          "data": {
            "text/plain": []
          },
          "metadata": {},
          "execution_count": 3
        }
      ]
    },
    {
      "cell_type": "markdown",
      "source": [
        "[garadioのplaygroundにサンプルがたくさん](https://www.gradio.app/playground)"
      ],
      "metadata": {
        "id": "7N57BHnmXnfc"
      }
    }
  ]
}