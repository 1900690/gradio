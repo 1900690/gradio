{
  "nbformat": 4,
  "nbformat_minor": 0,
  "metadata": {
    "colab": {
      "provenance": [],
      "authorship_tag": "ABX9TyNWg8mASW4ZV5L+WvKh4dLz",
      "include_colab_link": true
    },
    "kernelspec": {
      "name": "python3",
      "display_name": "Python 3"
    },
    "language_info": {
      "name": "python"
    }
  },
  "cells": [
    {
      "cell_type": "markdown",
      "metadata": {
        "id": "view-in-github",
        "colab_type": "text"
      },
      "source": [
        "<a href=\"https://colab.research.google.com/github/1900690/gradio/blob/main/gradio_training.ipynb\" target=\"_parent\"><img src=\"https://colab.research.google.com/assets/colab-badge.svg\" alt=\"Open In Colab\"/></a>"
      ]
    },
    {
      "cell_type": "markdown",
      "source": [
        "[Google Colab上でwebアプリが作れるGradioの使い方](https://clameyes.com/posts/google-colab-web-app-gradio)"
      ],
      "metadata": {
        "id": "cXp57yWcKMD_"
      }
    },
    {
      "cell_type": "markdown",
      "source": [
        "[garadioのplaygroundにサンプルがたくさん](https://www.gradio.app/playground)"
      ],
      "metadata": {
        "id": "7N57BHnmXnfc"
      }
    },
    {
      "cell_type": "markdown",
      "source": [
        "##※認証がある場合はID;test pass:gradio"
      ],
      "metadata": {
        "id": "nkCz8ppzWEtC"
      }
    },
    {
      "cell_type": "code",
      "execution_count": null,
      "metadata": {
        "id": "1ydajSXTJ3y8"
      },
      "outputs": [],
      "source": [
        "#@title gradioライブラリをインストール\n",
        "#@markdown この共有リンクの有効期限は1週間です。永続的なホスティングとGPUのアップグレードを無料で行うには、作業ディレクトリのターミナルから `gradio deploy` を実行し、Hugging Face Spaces (https://huggingface.co/spaces) にデプロイしてください。\n",
        "!pip -q install gradio"
      ]
    },
    {
      "cell_type": "code",
      "source": [
        "#@title 指定したテキストを返すアプリ\n",
        "import gradio as gr\n",
        "\n",
        "# 関数を定義\n",
        "def greet(name):\n",
        "    return \"Hello \" + name + \"!\"\n",
        "\n",
        "# Webアプリを作成\n",
        "app = gr.Interface(fn=greet, inputs=\"text\", outputs=\"text\")\n",
        "# Webアプリを起動\n",
        "app.launch(share=True, auth=(\"test\", \"gradio\"))"
      ],
      "metadata": {
        "id": "z-Ns6regKKSF",
        "outputId": "62d0a225-4bb5-4ef0-942d-217f37a28613",
        "colab": {
          "base_uri": "https://localhost:8080/",
          "height": 613
        },
        "cellView": "form"
      },
      "execution_count": null,
      "outputs": [
        {
          "output_type": "stream",
          "name": "stdout",
          "text": [
            "Colab notebook detected. To show errors in colab notebook, set debug=True in launch()\n",
            "* Running on public URL: https://d2db3a0419addaceb0.gradio.live\n",
            "\n",
            "This share link expires in 1 week. For free permanent hosting and GPU upgrades, run `gradio deploy` from the terminal in the working directory to deploy to Hugging Face Spaces (https://huggingface.co/spaces)\n"
          ]
        },
        {
          "output_type": "display_data",
          "data": {
            "text/plain": [
              "<IPython.core.display.HTML object>"
            ],
            "text/html": [
              "<div><iframe src=\"https://d2db3a0419addaceb0.gradio.live\" width=\"100%\" height=\"500\" allow=\"autoplay; camera; microphone; clipboard-read; clipboard-write;\" frameborder=\"0\" allowfullscreen></iframe></div>"
            ]
          },
          "metadata": {}
        },
        {
          "output_type": "execute_result",
          "data": {
            "text/plain": []
          },
          "metadata": {},
          "execution_count": 4
        }
      ]
    },
    {
      "cell_type": "code",
      "source": [
        "#@title スライダーで数を定義するアプリ\n",
        "import gradio as gr\n",
        "\n",
        "# 関数を定義\n",
        "def count(number):\n",
        "    return \"数字は \" + str(number) + \"!\"\n",
        "\n",
        "# Webアプリを作成\n",
        "app = gr.Interface(fn=count, inputs=\"slider\", outputs=\"text\")\n",
        "# Webアプリを起動\n",
        "app.launch(share=True, auth=(\"test\", \"gradio\"))"
      ],
      "metadata": {
        "id": "fokzlb8rLGfn",
        "outputId": "3253afdd-4e40-4e66-d71b-57865f39f6d5",
        "colab": {
          "base_uri": "https://localhost:8080/",
          "height": 613
        },
        "cellView": "form"
      },
      "execution_count": null,
      "outputs": [
        {
          "output_type": "stream",
          "name": "stdout",
          "text": [
            "Colab notebook detected. To show errors in colab notebook, set debug=True in launch()\n",
            "* Running on public URL: https://1d38daa5056d6f920f.gradio.live\n",
            "\n",
            "This share link expires in 1 week. For free permanent hosting and GPU upgrades, run `gradio deploy` from the terminal in the working directory to deploy to Hugging Face Spaces (https://huggingface.co/spaces)\n"
          ]
        },
        {
          "output_type": "display_data",
          "data": {
            "text/plain": [
              "<IPython.core.display.HTML object>"
            ],
            "text/html": [
              "<div><iframe src=\"https://1d38daa5056d6f920f.gradio.live\" width=\"100%\" height=\"500\" allow=\"autoplay; camera; microphone; clipboard-read; clipboard-write;\" frameborder=\"0\" allowfullscreen></iframe></div>"
            ]
          },
          "metadata": {}
        },
        {
          "output_type": "execute_result",
          "data": {
            "text/plain": []
          },
          "metadata": {},
          "execution_count": 8
        }
      ]
    },
    {
      "cell_type": "markdown",
      "source": [
        "[Google ColabでGUI｜gradioを利用したウェブアプリの作り方を解説](https://tech.aru-zakki.com/gradio-on-google-colab/)"
      ],
      "metadata": {
        "id": "0LwBKY_PL6Rf"
      }
    },
    {
      "cell_type": "code",
      "source": [
        "#@title 画像をフィルターに通すアプリ\n",
        "import numpy as np\n",
        "import gradio as gr\n",
        "\n",
        "#セピアフィルターを定義\n",
        "def sepia(input_img):\n",
        "    sepia_filter = np.array([\n",
        "        [0.393, 0.769, 0.189],\n",
        "        [0.349, 0.686, 0.168],\n",
        "        [0.272, 0.534, 0.131]\n",
        "    ])\n",
        "    sepia_img = input_img.dot(sepia_filter.T)\n",
        "    sepia_img /= sepia_img.max()\n",
        "    return sepia_img\n",
        "\n",
        "app = gr.Interface(sepia, gr.Image(), \"image\")\n",
        "# Webアプリを起動\n",
        "app.launch(share=True, auth=(\"test\", \"gradio\"))"
      ],
      "metadata": {
        "id": "3f_7XmVqVJ9F",
        "outputId": "58e38103-6a72-460e-ed8d-7f2f29f6cae8",
        "colab": {
          "base_uri": "https://localhost:8080/",
          "height": 613
        }
      },
      "execution_count": null,
      "outputs": [
        {
          "output_type": "stream",
          "name": "stdout",
          "text": [
            "Colab notebook detected. To show errors in colab notebook, set debug=True in launch()\n",
            "* Running on public URL: https://402e2f7432d4e668b6.gradio.live\n",
            "\n",
            "This share link expires in 1 week. For free permanent hosting and GPU upgrades, run `gradio deploy` from the terminal in the working directory to deploy to Hugging Face Spaces (https://huggingface.co/spaces)\n"
          ]
        },
        {
          "output_type": "display_data",
          "data": {
            "text/plain": [
              "<IPython.core.display.HTML object>"
            ],
            "text/html": [
              "<div><iframe src=\"https://402e2f7432d4e668b6.gradio.live\" width=\"100%\" height=\"500\" allow=\"autoplay; camera; microphone; clipboard-read; clipboard-write;\" frameborder=\"0\" allowfullscreen></iframe></div>"
            ]
          },
          "metadata": {}
        },
        {
          "output_type": "execute_result",
          "data": {
            "text/plain": []
          },
          "metadata": {},
          "execution_count": 2
        }
      ]
    },
    {
      "cell_type": "code",
      "source": [
        "#@title　入力した値を覚えるアプリ\n",
        "import gradio as gr\n",
        "\n",
        "scores = []\n",
        "\n",
        "def track_score(score):\n",
        "    scores.append(score)\n",
        "    top_scores = sorted(scores, reverse=True)[:3]\n",
        "    return top_scores\n",
        "\n",
        "app = gr.Interface(\n",
        "    track_score,\n",
        "    gr.Number(label=\"Score\"),\n",
        "    gr.JSON(label=\"Top Scores\")\n",
        ")\n",
        "app.launch(share=True, auth=(\"test\", \"gradio\"))"
      ],
      "metadata": {
        "cellView": "form",
        "id": "9u7nPojYXIms",
        "outputId": "48df5eb2-fb27-4595-b26c-233fe5948b26",
        "colab": {
          "base_uri": "https://localhost:8080/",
          "height": 613
        }
      },
      "execution_count": null,
      "outputs": [
        {
          "output_type": "stream",
          "name": "stdout",
          "text": [
            "Colab notebook detected. To show errors in colab notebook, set debug=True in launch()\n",
            "* Running on public URL: https://cd3b70f4d607c1eddb.gradio.live\n",
            "\n",
            "This share link expires in 1 week. For free permanent hosting and GPU upgrades, run `gradio deploy` from the terminal in the working directory to deploy to Hugging Face Spaces (https://huggingface.co/spaces)\n"
          ]
        },
        {
          "output_type": "display_data",
          "data": {
            "text/plain": [
              "<IPython.core.display.HTML object>"
            ],
            "text/html": [
              "<div><iframe src=\"https://cd3b70f4d607c1eddb.gradio.live\" width=\"100%\" height=\"500\" allow=\"autoplay; camera; microphone; clipboard-read; clipboard-write;\" frameborder=\"0\" allowfullscreen></iframe></div>"
            ]
          },
          "metadata": {}
        },
        {
          "output_type": "execute_result",
          "data": {
            "text/plain": []
          },
          "metadata": {},
          "execution_count": 3
        }
      ]
    },
    {
      "cell_type": "markdown",
      "source": [
        "#アナログメータ針検出アプリをgradio化してみると"
      ],
      "metadata": {
        "id": "A-S2Q-ANfHZP"
      }
    },
    {
      "cell_type": "code",
      "source": [
        "import cv2\n",
        "import math\n",
        "import numpy as np\n",
        "import gradio as gr\n",
        "\n",
        "def analog(input_img):\n",
        "        # 指定する中心点（メータの中心）\n",
        "        cx, cy =(346,304)#横は→に進む、縦は↓に進む\n",
        "        angle_off_set=-133#pf0の時に０になるように初期値を設定する\n",
        "\n",
        "        # グレースケール変換 & 二値化\n",
        "        gray = cv2.cvtColor(input_img, cv2.COLOR_BGR2GRAY)\n",
        "        threshold = 100\n",
        "        _, img_thresh = cv2.threshold(gray, threshold, 255, cv2.THRESH_BINARY)\n",
        "\n",
        "        # エッジ検出\n",
        "        edges = cv2.Canny(img_thresh, 50, 200, apertureSize=3)\n",
        "\n",
        "        # Hough変換で直線を検出（2本の直線を得る）\n",
        "        minn = None\n",
        "        for m in range(10, 161, 1):\n",
        "            lines = cv2.HoughLines(edges, 1, np.pi / 180, m)\n",
        "            if lines is not None and len(lines) == 2:\n",
        "                minn = m\n",
        "                break\n",
        "\n",
        "        # 直線が2本見つからなかった場合のエラーハンドリング\n",
        "        if minn is None:\n",
        "            raise ValueError(\"直線が2本検出されませんでした。画像のコントラストやエッジ検出のパラメータを調整してください。\")\n",
        "\n",
        "        lines = cv2.HoughLines(edges, 1, np.pi / 180, minn)\n",
        "\n",
        "        theta_t = []  # 直線の角度\n",
        "        coefficients = []  # 直線の傾きと切片\n",
        "\n",
        "        for i in range(len(lines)):\n",
        "            for rho, theta in lines[i]:\n",
        "                theta_t.append(theta)\n",
        "\n",
        "                a = np.cos(theta)\n",
        "                b = np.sin(theta)\n",
        "                x0 = a * rho\n",
        "                y0 = b * rho\n",
        "\n",
        "                x1 = int(x0 + 1000 * (-b))\n",
        "                y1 = int(y0 + 1000 * (a))\n",
        "                x2 = int(x0 - 1000 * (-b))\n",
        "                y2 = int(y0 - 1000 * (a))\n",
        "                cv2.line(input_img, (x1, y1), (x2, y2), (0, 0, 255), 2)\n",
        "\n",
        "                # x2-x1が0の場合のエラーハンドリング\n",
        "                if x2 - x1 == 0:\n",
        "                    continue  # 無限傾斜を避ける\n",
        "                a0 = (y2 - y1) / (x2 - x1)\n",
        "                b0 = y1 - a0 * x1\n",
        "                coefficients.append((a0, b0))\n",
        "\n",
        "        # 直線の数をチェック（2本以上ある場合は最初の2本を使用）\n",
        "        if len(coefficients) < 2:\n",
        "            raise gr.Error(\"十分な直線が検出されませんでした。\")\n",
        "\n",
        "        (a1, b1), (a2, b2) = coefficients[:2]  # 最初の2本を選択\n",
        "\n",
        "        # 交点を計算\n",
        "        if a1 == a2:\n",
        "            raise gr.Error(\"平行な直線のため交点が計算できません。\")\n",
        "\n",
        "        x_t = (b2 - b1) / (a1 - a2)\n",
        "        y_t = a1 * x_t + b1\n",
        "\n",
        "        # 交点と中心点を結ぶ線の角度を計算\n",
        "        angle_rad = np.arctan2(y_t - cy, x_t - cx)\n",
        "        angle_deg = np.degrees(angle_rad)\n",
        "        angle =int(angle_deg) +angle_off_set\n",
        "        angle=angle*-1  #負の角度を修正\n",
        "        Kpa=8/27*angle\n",
        "        if Kpa * 10.197 > 0:\n",
        "          PH=math.log10(Kpa*10.197)\n",
        "        elif Kpa == 0 :\n",
        "          PH=0\n",
        "        else:\n",
        "          PH=-1\n",
        "          raise gr.Error(\"角度がマイナスになりました\")\n",
        "\n",
        "        # 結果を画像に描画\n",
        "        img_temp=cv2.circle(input_img, (int(cx), int(cy)), 10, (0, 255, 0), -1)  # 中心点を描画\n",
        "        img_temp=cv2.circle(img_temp, (int(x_t), int(y_t)), 10, (0, 255, 0), -1)  # 交点を描画\n",
        "        img_temp=cv2.line(img_temp, (cx, cy), (int(x_t), int(y_t)), (255, 0, 0), 2)  # 中心と交点を結ぶ線\n",
        "        img_temp=cv2.putText(img_temp, f\"{PH:.2f} ph\", (100, 100), cv2.FONT_HERSHEY_SIMPLEX, 1, (0, 255, 255), 2)\n",
        "        return img_temp\n",
        "\n",
        "app = gr.Interface(\n",
        "    analog,\n",
        "    gr.Image(),\n",
        "    \"image\",\n",
        "     examples=[\n",
        "         [\"https://github.com/1900690/analog-meter-reading/releases/download/analog-meter-samples/000.jpg\"],\n",
        "         [\"https://github.com/1900690/analog-meter-reading/releases/download/analog-meter-samples/021.jpg\"],\n",
        "         [\"https://github.com/1900690/analog-meter-reading/releases/download/analog-meter-samples/026.jpg\"]\n",
        "     ],\n",
        "    title=\"アナログメータ針検出アプリ\",\n",
        "    description=\"アナログメーターの画像をアップロードしてください。画像からから針の角度を検出します。\",\n",
        "    allow_flagging='never'\n",
        "    )\n",
        "# Webアプリを起動\n",
        "app.launch(share=True, auth=(\"test\", \"gradio\"))"
      ],
      "metadata": {
        "id": "gsehT1jIfyv0",
        "outputId": "c3cb5932-2011-46f6-95d7-2b601dd98dad",
        "colab": {
          "base_uri": "https://localhost:8080/",
          "height": 649
        }
      },
      "execution_count": null,
      "outputs": [
        {
          "output_type": "stream",
          "name": "stderr",
          "text": [
            "/usr/local/lib/python3.11/dist-packages/gradio/interface.py:416: UserWarning: The `allow_flagging` parameter in `Interface` is deprecated.Use `flagging_mode` instead.\n",
            "  warnings.warn(\n"
          ]
        },
        {
          "output_type": "stream",
          "name": "stdout",
          "text": [
            "Colab notebook detected. To show errors in colab notebook, set debug=True in launch()\n",
            "* Running on public URL: https://d1d3ce4eeec00673aa.gradio.live\n",
            "\n",
            "This share link expires in 1 week. For free permanent hosting and GPU upgrades, run `gradio deploy` from the terminal in the working directory to deploy to Hugging Face Spaces (https://huggingface.co/spaces)\n"
          ]
        },
        {
          "output_type": "display_data",
          "data": {
            "text/plain": [
              "<IPython.core.display.HTML object>"
            ],
            "text/html": [
              "<div><iframe src=\"https://d1d3ce4eeec00673aa.gradio.live\" width=\"100%\" height=\"500\" allow=\"autoplay; camera; microphone; clipboard-read; clipboard-write;\" frameborder=\"0\" allowfullscreen></iframe></div>"
            ]
          },
          "metadata": {}
        },
        {
          "output_type": "execute_result",
          "data": {
            "text/plain": []
          },
          "metadata": {},
          "execution_count": 3
        }
      ]
    },
    {
      "cell_type": "markdown",
      "source": [
        "#空隙率測定アプリをgradio化してみると"
      ],
      "metadata": {
        "id": "l1RMO5Z-N3BO"
      }
    },
    {
      "cell_type": "code",
      "source": [
        "import cv2\n",
        "import numpy as np\n",
        "import gradio as gr\n",
        "\n",
        "def analog(input_img):\n",
        "        #画像を読み込み\n",
        "        src = cv2.cvtColor(input_img, cv2.COLOR_BGR2RGB)\n",
        "        #各色を取り出し\n",
        "        r = np.array(src[:, :, 0], dtype=np.int16)\n",
        "        g = np.array(src[:, :, 1], dtype=np.int16)\n",
        "        b = np.array(src[:, :, 2], dtype=np.int16)\n",
        "\n",
        "        return b\n",
        "\n",
        "gr.Slider(minimum=1, maximum=10, step=1),\n",
        "\n",
        "app = gr.Interface(\n",
        "    analog,#関数名\n",
        "    [gr.Image(),#入力する値\n",
        "     gr.Slider(minimum=0, maximum=255, step=1, label=\"赤上限\"),\n",
        "     gr.Slider(minimum=0, maximum=255, step=1, label=\"赤下限\"),\n",
        "     gr.Slider(minimum=0, maximum=255, step=1, label=\"青上限\"),\n",
        "     gr.Slider(minimum=0, maximum=255, step=1, label=\"青下限\"),\n",
        "     gr.Slider(minimum=0, maximum=255, step=1, label=\"緑上限\"),\n",
        "     gr.Slider(minimum=0, maximum=255, step=1, label=\"緑下限\"),\n",
        "     ],\n",
        "    \"image\",#出力する値\n",
        "     examples=[#例の入力\n",
        "         [\"https://github.com/1900690/grape-sky-segmentation/releases/download/sample/sample.jpg\"]\n",
        "     ],\n",
        "    allow_flagging='never'\n",
        "    )\n",
        "# Webアプリを起動\n",
        "app.launch()"
      ],
      "metadata": {
        "id": "0tV_Eoz9QHRb",
        "outputId": "d22d41c0-54b6-470d-ea7b-937f94738eb9",
        "colab": {
          "base_uri": "https://localhost:8080/",
          "height": 685
        }
      },
      "execution_count": null,
      "outputs": [
        {
          "output_type": "stream",
          "name": "stderr",
          "text": [
            "/usr/local/lib/python3.11/dist-packages/gradio/interface.py:416: UserWarning: The `allow_flagging` parameter in `Interface` is deprecated.Use `flagging_mode` instead.\n",
            "  warnings.warn(\n"
          ]
        },
        {
          "output_type": "stream",
          "name": "stdout",
          "text": [
            "It looks like you are running Gradio on a hosted a Jupyter notebook. For the Gradio app to work, sharing must be enabled. Automatically setting `share=True` (you can turn this off by setting `share=False` in `launch()` explicitly).\n",
            "\n",
            "Colab notebook detected. To show errors in colab notebook, set debug=True in launch()\n",
            "* Running on public URL: https://92ef2ebee7fdba13b9.gradio.live\n",
            "\n",
            "This share link expires in 1 week. For free permanent hosting and GPU upgrades, run `gradio deploy` from the terminal in the working directory to deploy to Hugging Face Spaces (https://huggingface.co/spaces)\n"
          ]
        },
        {
          "output_type": "display_data",
          "data": {
            "text/plain": [
              "<IPython.core.display.HTML object>"
            ],
            "text/html": [
              "<div><iframe src=\"https://92ef2ebee7fdba13b9.gradio.live\" width=\"100%\" height=\"500\" allow=\"autoplay; camera; microphone; clipboard-read; clipboard-write;\" frameborder=\"0\" allowfullscreen></iframe></div>"
            ]
          },
          "metadata": {}
        },
        {
          "output_type": "execute_result",
          "data": {
            "text/plain": []
          },
          "metadata": {},
          "execution_count": 7
        }
      ]
    }
  ]
}