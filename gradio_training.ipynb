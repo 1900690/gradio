{
  "nbformat": 4,
  "nbformat_minor": 0,
  "metadata": {
    "colab": {
      "provenance": [],
      "toc_visible": true,
      "authorship_tag": "ABX9TyPaQWbJHxeR84GsVyGdzam0",
      "include_colab_link": true
    },
    "kernelspec": {
      "name": "python3",
      "display_name": "Python 3"
    },
    "language_info": {
      "name": "python"
    }
  },
  "cells": [
    {
      "cell_type": "markdown",
      "metadata": {
        "id": "view-in-github",
        "colab_type": "text"
      },
      "source": [
        "<a href=\"https://colab.research.google.com/github/1900690/gradio/blob/main/gradio_training.ipynb\" target=\"_parent\"><img src=\"https://colab.research.google.com/assets/colab-badge.svg\" alt=\"Open In Colab\"/></a>"
      ]
    },
    {
      "cell_type": "markdown",
      "source": [
        "[Google Colab上でwebアプリが作れるGradioの使い方](https://clameyes.com/posts/google-colab-web-app-gradio)"
      ],
      "metadata": {
        "id": "cXp57yWcKMD_"
      }
    },
    {
      "cell_type": "markdown",
      "source": [
        "[garadioのplaygroundにサンプルがたくさん](https://www.gradio.app/playground)"
      ],
      "metadata": {
        "id": "7N57BHnmXnfc"
      }
    },
    {
      "cell_type": "markdown",
      "source": [
        "##※認証がある場合はID;test pass:gradio"
      ],
      "metadata": {
        "id": "nkCz8ppzWEtC"
      }
    },
    {
      "cell_type": "code",
      "execution_count": null,
      "metadata": {
        "id": "1ydajSXTJ3y8"
      },
      "outputs": [],
      "source": [
        "#@title gradioライブラリをインストール\n",
        "#@markdown この共有リンクの有効期限は1週間です。永続的なホスティングとGPUのアップグレードを無料で行うには、作業ディレクトリのターミナルから `gradio deploy` を実行し、Hugging Face Spaces (https://huggingface.co/spaces) にデプロイしてください。\n",
        "!pip -q install gradio"
      ]
    },
    {
      "cell_type": "code",
      "source": [
        "#@title 指定したテキストを返すアプリ\n",
        "import gradio as gr\n",
        "\n",
        "# 関数を定義\n",
        "def greet(name):\n",
        "    return \"Hello \" + name + \"!\"\n",
        "\n",
        "# Webアプリを作成\n",
        "app = gr.Interface(fn=greet, inputs=\"text\", outputs=\"text\")\n",
        "# Webアプリを起動\n",
        "app.launch(share=True, auth=(\"test\", \"gradio\"))"
      ],
      "metadata": {
        "id": "z-Ns6regKKSF",
        "outputId": "62d0a225-4bb5-4ef0-942d-217f37a28613",
        "colab": {
          "base_uri": "https://localhost:8080/",
          "height": 613
        },
        "cellView": "form"
      },
      "execution_count": null,
      "outputs": [
        {
          "output_type": "stream",
          "name": "stdout",
          "text": [
            "Colab notebook detected. To show errors in colab notebook, set debug=True in launch()\n",
            "* Running on public URL: https://d2db3a0419addaceb0.gradio.live\n",
            "\n",
            "This share link expires in 1 week. For free permanent hosting and GPU upgrades, run `gradio deploy` from the terminal in the working directory to deploy to Hugging Face Spaces (https://huggingface.co/spaces)\n"
          ]
        },
        {
          "output_type": "display_data",
          "data": {
            "text/plain": [
              "<IPython.core.display.HTML object>"
            ],
            "text/html": [
              "<div><iframe src=\"https://d2db3a0419addaceb0.gradio.live\" width=\"100%\" height=\"500\" allow=\"autoplay; camera; microphone; clipboard-read; clipboard-write;\" frameborder=\"0\" allowfullscreen></iframe></div>"
            ]
          },
          "metadata": {}
        },
        {
          "output_type": "execute_result",
          "data": {
            "text/plain": []
          },
          "metadata": {},
          "execution_count": 4
        }
      ]
    },
    {
      "cell_type": "code",
      "source": [
        "#@title スライダーで数を定義するアプリ\n",
        "import gradio as gr\n",
        "\n",
        "# 関数を定義\n",
        "def count(number):\n",
        "    return \"数字は \" + str(number) + \"!\"\n",
        "\n",
        "# Webアプリを作成\n",
        "app = gr.Interface(fn=count, inputs=\"slider\", outputs=\"text\")\n",
        "# Webアプリを起動\n",
        "app.launch(share=True, auth=(\"test\", \"gradio\"))"
      ],
      "metadata": {
        "id": "fokzlb8rLGfn",
        "outputId": "3253afdd-4e40-4e66-d71b-57865f39f6d5",
        "colab": {
          "base_uri": "https://localhost:8080/",
          "height": 613
        },
        "cellView": "form"
      },
      "execution_count": null,
      "outputs": [
        {
          "output_type": "stream",
          "name": "stdout",
          "text": [
            "Colab notebook detected. To show errors in colab notebook, set debug=True in launch()\n",
            "* Running on public URL: https://1d38daa5056d6f920f.gradio.live\n",
            "\n",
            "This share link expires in 1 week. For free permanent hosting and GPU upgrades, run `gradio deploy` from the terminal in the working directory to deploy to Hugging Face Spaces (https://huggingface.co/spaces)\n"
          ]
        },
        {
          "output_type": "display_data",
          "data": {
            "text/plain": [
              "<IPython.core.display.HTML object>"
            ],
            "text/html": [
              "<div><iframe src=\"https://1d38daa5056d6f920f.gradio.live\" width=\"100%\" height=\"500\" allow=\"autoplay; camera; microphone; clipboard-read; clipboard-write;\" frameborder=\"0\" allowfullscreen></iframe></div>"
            ]
          },
          "metadata": {}
        },
        {
          "output_type": "execute_result",
          "data": {
            "text/plain": []
          },
          "metadata": {},
          "execution_count": 8
        }
      ]
    },
    {
      "cell_type": "markdown",
      "source": [
        "[Google ColabでGUI｜gradioを利用したウェブアプリの作り方を解説](https://tech.aru-zakki.com/gradio-on-google-colab/)"
      ],
      "metadata": {
        "id": "0LwBKY_PL6Rf"
      }
    },
    {
      "cell_type": "code",
      "source": [
        "#@title 画像をフィルターに通すアプリ\n",
        "import numpy as np\n",
        "import gradio as gr\n",
        "\n",
        "#セピアフィルターを定義\n",
        "def sepia(input_img):\n",
        "    sepia_filter = np.array([\n",
        "        [0.393, 0.769, 0.189],\n",
        "        [0.349, 0.686, 0.168],\n",
        "        [0.272, 0.534, 0.131]\n",
        "    ])\n",
        "    sepia_img = input_img.dot(sepia_filter.T)\n",
        "    sepia_img /= sepia_img.max()\n",
        "    return sepia_img\n",
        "\n",
        "app = gr.Interface(sepia, gr.Image(), \"image\")\n",
        "# Webアプリを起動\n",
        "app.launch(share=True, auth=(\"test\", \"gradio\"))"
      ],
      "metadata": {
        "id": "3f_7XmVqVJ9F",
        "outputId": "58e38103-6a72-460e-ed8d-7f2f29f6cae8",
        "colab": {
          "base_uri": "https://localhost:8080/",
          "height": 613
        }
      },
      "execution_count": null,
      "outputs": [
        {
          "output_type": "stream",
          "name": "stdout",
          "text": [
            "Colab notebook detected. To show errors in colab notebook, set debug=True in launch()\n",
            "* Running on public URL: https://402e2f7432d4e668b6.gradio.live\n",
            "\n",
            "This share link expires in 1 week. For free permanent hosting and GPU upgrades, run `gradio deploy` from the terminal in the working directory to deploy to Hugging Face Spaces (https://huggingface.co/spaces)\n"
          ]
        },
        {
          "output_type": "display_data",
          "data": {
            "text/plain": [
              "<IPython.core.display.HTML object>"
            ],
            "text/html": [
              "<div><iframe src=\"https://402e2f7432d4e668b6.gradio.live\" width=\"100%\" height=\"500\" allow=\"autoplay; camera; microphone; clipboard-read; clipboard-write;\" frameborder=\"0\" allowfullscreen></iframe></div>"
            ]
          },
          "metadata": {}
        },
        {
          "output_type": "execute_result",
          "data": {
            "text/plain": []
          },
          "metadata": {},
          "execution_count": 2
        }
      ]
    },
    {
      "cell_type": "code",
      "source": [
        "#@title　入力した値を覚えるアプリ\n",
        "import gradio as gr\n",
        "\n",
        "scores = []\n",
        "\n",
        "def track_score(score):\n",
        "    scores.append(score)\n",
        "    top_scores = sorted(scores, reverse=True)[:3]\n",
        "    return top_scores\n",
        "\n",
        "app = gr.Interface(\n",
        "    track_score,\n",
        "    gr.Number(label=\"Score\"),\n",
        "    gr.JSON(label=\"Top Scores\")\n",
        ")\n",
        "app.launch(share=True, auth=(\"test\", \"gradio\"))"
      ],
      "metadata": {
        "cellView": "form",
        "id": "9u7nPojYXIms",
        "outputId": "48df5eb2-fb27-4595-b26c-233fe5948b26",
        "colab": {
          "base_uri": "https://localhost:8080/",
          "height": 613
        }
      },
      "execution_count": null,
      "outputs": [
        {
          "output_type": "stream",
          "name": "stdout",
          "text": [
            "Colab notebook detected. To show errors in colab notebook, set debug=True in launch()\n",
            "* Running on public URL: https://cd3b70f4d607c1eddb.gradio.live\n",
            "\n",
            "This share link expires in 1 week. For free permanent hosting and GPU upgrades, run `gradio deploy` from the terminal in the working directory to deploy to Hugging Face Spaces (https://huggingface.co/spaces)\n"
          ]
        },
        {
          "output_type": "display_data",
          "data": {
            "text/plain": [
              "<IPython.core.display.HTML object>"
            ],
            "text/html": [
              "<div><iframe src=\"https://cd3b70f4d607c1eddb.gradio.live\" width=\"100%\" height=\"500\" allow=\"autoplay; camera; microphone; clipboard-read; clipboard-write;\" frameborder=\"0\" allowfullscreen></iframe></div>"
            ]
          },
          "metadata": {}
        },
        {
          "output_type": "execute_result",
          "data": {
            "text/plain": []
          },
          "metadata": {},
          "execution_count": 3
        }
      ]
    },
    {
      "cell_type": "markdown",
      "source": [
        "#アナログメータ針検出アプリをgradio化してみると"
      ],
      "metadata": {
        "id": "A-S2Q-ANfHZP"
      }
    },
    {
      "cell_type": "code",
      "source": [
        "import cv2\n",
        "import math\n",
        "import numpy as np\n",
        "import gradio as gr\n",
        "\n",
        "def analog(input_img):\n",
        "        # 指定する中心点（メータの中心）\n",
        "        cx, cy =(346,304)#横は→に進む、縦は↓に進む\n",
        "        angle_off_set=-133#pf0の時に０になるように初期値を設定する\n",
        "\n",
        "        # グレースケール変換 & 二値化\n",
        "        gray = cv2.cvtColor(input_img, cv2.COLOR_BGR2GRAY)\n",
        "        threshold = 100\n",
        "        _, img_thresh = cv2.threshold(gray, threshold, 255, cv2.THRESH_BINARY)\n",
        "\n",
        "        # エッジ検出\n",
        "        edges = cv2.Canny(img_thresh, 50, 200, apertureSize=3)\n",
        "\n",
        "        # Hough変換で直線を検出（2本の直線を得る）\n",
        "        minn = None\n",
        "        for m in range(10, 161, 1):\n",
        "            lines = cv2.HoughLines(edges, 1, np.pi / 180, m)\n",
        "            if lines is not None and len(lines) == 2:\n",
        "                minn = m\n",
        "                break\n",
        "\n",
        "        # 直線が2本見つからなかった場合のエラーハンドリング\n",
        "        if minn is None:\n",
        "            raise ValueError(\"直線が2本検出されませんでした。画像のコントラストやエッジ検出のパラメータを調整してください。\")\n",
        "\n",
        "        lines = cv2.HoughLines(edges, 1, np.pi / 180, minn)\n",
        "\n",
        "        theta_t = []  # 直線の角度\n",
        "        coefficients = []  # 直線の傾きと切片\n",
        "\n",
        "        for i in range(len(lines)):\n",
        "            for rho, theta in lines[i]:\n",
        "                theta_t.append(theta)\n",
        "\n",
        "                a = np.cos(theta)\n",
        "                b = np.sin(theta)\n",
        "                x0 = a * rho\n",
        "                y0 = b * rho\n",
        "\n",
        "                x1 = int(x0 + 1000 * (-b))\n",
        "                y1 = int(y0 + 1000 * (a))\n",
        "                x2 = int(x0 - 1000 * (-b))\n",
        "                y2 = int(y0 - 1000 * (a))\n",
        "                cv2.line(input_img, (x1, y1), (x2, y2), (0, 0, 255), 2)\n",
        "\n",
        "                # x2-x1が0の場合のエラーハンドリング\n",
        "                if x2 - x1 == 0:\n",
        "                    continue  # 無限傾斜を避ける\n",
        "                a0 = (y2 - y1) / (x2 - x1)\n",
        "                b0 = y1 - a0 * x1\n",
        "                coefficients.append((a0, b0))\n",
        "\n",
        "        # 直線の数をチェック（2本以上ある場合は最初の2本を使用）\n",
        "        if len(coefficients) < 2:\n",
        "            raise gr.Error(\"十分な直線が検出されませんでした。\")\n",
        "\n",
        "        (a1, b1), (a2, b2) = coefficients[:2]  # 最初の2本を選択\n",
        "\n",
        "        # 交点を計算\n",
        "        if a1 == a2:\n",
        "            raise gr.Error(\"平行な直線のため交点が計算できません。\")\n",
        "\n",
        "        x_t = (b2 - b1) / (a1 - a2)\n",
        "        y_t = a1 * x_t + b1\n",
        "\n",
        "        # 交点と中心点を結ぶ線の角度を計算\n",
        "        angle_rad = np.arctan2(y_t - cy, x_t - cx)\n",
        "        angle_deg = np.degrees(angle_rad)\n",
        "        angle =int(angle_deg) +angle_off_set\n",
        "        angle=angle*-1  #負の角度を修正\n",
        "        Kpa=8/27*angle\n",
        "        if Kpa * 10.197 > 0:\n",
        "          PH=math.log10(Kpa*10.197)\n",
        "        elif Kpa == 0 :\n",
        "          PH=0\n",
        "        else:\n",
        "          PH=-1\n",
        "          raise gr.Error(\"角度がマイナスになりました\")\n",
        "\n",
        "        # 結果を画像に描画\n",
        "        img_temp=cv2.circle(input_img, (int(cx), int(cy)), 10, (0, 255, 0), -1)  # 中心点を描画\n",
        "        img_temp=cv2.circle(img_temp, (int(x_t), int(y_t)), 10, (0, 255, 0), -1)  # 交点を描画\n",
        "        img_temp=cv2.line(img_temp, (cx, cy), (int(x_t), int(y_t)), (255, 0, 0), 2)  # 中心と交点を結ぶ線\n",
        "        img_temp=cv2.putText(img_temp, f\"{PH:.2f} ph\", (100, 100), cv2.FONT_HERSHEY_SIMPLEX, 1, (0, 255, 255), 2)\n",
        "        return img_temp\n",
        "\n",
        "app = gr.Interface(\n",
        "    analog,\n",
        "    gr.Image(),\n",
        "    \"image\",\n",
        "     examples=[\n",
        "         [\"https://github.com/1900690/analog-meter-reading/releases/download/analog-meter-samples/000.jpg\"],\n",
        "         [\"https://github.com/1900690/analog-meter-reading/releases/download/analog-meter-samples/021.jpg\"],\n",
        "         [\"https://github.com/1900690/analog-meter-reading/releases/download/analog-meter-samples/026.jpg\"]\n",
        "     ],\n",
        "    title=\"アナログメータ針検出アプリ\",\n",
        "    description=\"アナログメーターの画像をアップロードしてください。画像からから針の角度を検出します。\",\n",
        "    allow_flagging='never'\n",
        "    )\n",
        "# Webアプリを起動\n",
        "app.launch(share=True, auth=(\"test\", \"gradio\"))"
      ],
      "metadata": {
        "id": "gsehT1jIfyv0",
        "outputId": "c3cb5932-2011-46f6-95d7-2b601dd98dad",
        "colab": {
          "base_uri": "https://localhost:8080/",
          "height": 649
        }
      },
      "execution_count": null,
      "outputs": [
        {
          "output_type": "stream",
          "name": "stderr",
          "text": [
            "/usr/local/lib/python3.11/dist-packages/gradio/interface.py:416: UserWarning: The `allow_flagging` parameter in `Interface` is deprecated.Use `flagging_mode` instead.\n",
            "  warnings.warn(\n"
          ]
        },
        {
          "output_type": "stream",
          "name": "stdout",
          "text": [
            "Colab notebook detected. To show errors in colab notebook, set debug=True in launch()\n",
            "* Running on public URL: https://d1d3ce4eeec00673aa.gradio.live\n",
            "\n",
            "This share link expires in 1 week. For free permanent hosting and GPU upgrades, run `gradio deploy` from the terminal in the working directory to deploy to Hugging Face Spaces (https://huggingface.co/spaces)\n"
          ]
        },
        {
          "output_type": "display_data",
          "data": {
            "text/plain": [
              "<IPython.core.display.HTML object>"
            ],
            "text/html": [
              "<div><iframe src=\"https://d1d3ce4eeec00673aa.gradio.live\" width=\"100%\" height=\"500\" allow=\"autoplay; camera; microphone; clipboard-read; clipboard-write;\" frameborder=\"0\" allowfullscreen></iframe></div>"
            ]
          },
          "metadata": {}
        },
        {
          "output_type": "execute_result",
          "data": {
            "text/plain": []
          },
          "metadata": {},
          "execution_count": 3
        }
      ]
    },
    {
      "cell_type": "markdown",
      "source": [
        "#開空率測定アプリをgradio化してみると"
      ],
      "metadata": {
        "id": "l1RMO5Z-N3BO"
      }
    },
    {
      "cell_type": "code",
      "source": [
        "import cv2\n",
        "import numpy as np\n",
        "import gradio as gr\n",
        "\n",
        "\n",
        "def detect_sky(input_img, Rmax, Rmin, Gmax, Gmin, Bmax, Bmin):\n",
        "    # Gradio からの画像は RGB 形式\n",
        "    src = cv2.cvtColor(input_img, cv2.COLOR_RGB2BGR)\n",
        "\n",
        "    # 各色を取り出し\n",
        "    r = np.array(src[:, :, 2], dtype=np.int16)\n",
        "    g = np.array(src[:, :, 1], dtype=np.int16)\n",
        "    b = np.array(src[:, :, 0], dtype=np.int16)\n",
        "\n",
        "    # 色フィルタリング\n",
        "    r_mask = np.where((r >= Rmin) & (r <= Rmax), r, 0)\n",
        "    g_mask = np.where((g >= Gmin) & (g <= Gmax), g, 0)\n",
        "    b_mask = np.where((b >= Bmin) & (b <= Bmax), b, 0)\n",
        "\n",
        "    binde_image = np.zeros_like(src)\n",
        "    binde_image[:, :, 0] = b_mask\n",
        "    binde_image[:, :, 1] = g_mask\n",
        "    binde_image[:, :, 2] = r_mask\n",
        "\n",
        "    # バイナリマスク作成\n",
        "    binde_image_binary = (r_mask + g_mask + b_mask)\n",
        "    binde_image_binary = np.where(binde_image_binary > 0, 255, 0).astype(\"uint8\")\n",
        "\n",
        "    # 輪郭抽出\n",
        "    contours, _ = cv2.findContours(binde_image_binary, cv2.RETR_LIST, cv2.CHAIN_APPROX_SIMPLE)\n",
        "    img_with_line = np.copy(src)\n",
        "    for i in range(len(contours)):\n",
        "        if cv2.contourArea(contours[i]) > 0:\n",
        "            img_with_line = cv2.drawContours(img_with_line, contours, i, (0, 0, 255), 1)\n",
        "\n",
        "    # 可視化用にRGBに変換\n",
        "    img_with_line_rgb = cv2.cvtColor(img_with_line, cv2.COLOR_BGR2RGB)\n",
        "\n",
        "    # 面積マスク作成\n",
        "    img_with_area = np.zeros_like(src)\n",
        "    for i in range(len(contours)):\n",
        "        if cv2.contourArea(contours[i]) > 0:\n",
        "            img_with_area = cv2.fillPoly(img_with_area, [contours[i][:, 0, :]], (255, 255, 255))\n",
        "\n",
        "    img_with_area_binary = np.where(np.sum(img_with_area, axis=2) > 0, 255, 0).astype(\"uint8\")\n",
        "    img_with_area_rgb = np.stack([img_with_area_binary]*3, axis=2)\n",
        "\n",
        "    # 占有率計算\n",
        "    all_pixel = img_with_area_binary.size\n",
        "    sky_pixel = np.sum(img_with_area_binary > 0)\n",
        "    sky_occupancy_rate = int((sky_pixel / all_pixel) * 100)\n",
        "\n",
        "    return f\"空の面積率: {sky_occupancy_rate}%\",img_with_line_rgb, img_with_area_rgb\n",
        "\n",
        "# Gradioインターフェース\n",
        "app = gr.Interface(\n",
        "    fn=detect_sky,\n",
        "    inputs=[\n",
        "        gr.Image(type=\"numpy\", label=\"画像\"),\n",
        "        gr.Slider(minimum=0, maximum=255, value=255, step=1, label=\"赤上限\"),\n",
        "        gr.Slider(minimum=0, maximum=255, value=200, step=1, label=\"赤下限\"),\n",
        "        gr.Slider(minimum=0, maximum=255, value=255, step=1, label=\"緑上限\"),\n",
        "        gr.Slider(minimum=0, maximum=255, value=200, step=1, label=\"緑下限\"),\n",
        "        gr.Slider(minimum=0, maximum=255, value=255, step=1, label=\"青上限\"),\n",
        "        gr.Slider(minimum=0, maximum=255, value=200, step=1, label=\"青下限\"),\n",
        "    ],\n",
        "    outputs=[\n",
        "        gr.Label(label=\"空の面積率\"),\n",
        "        gr.Image(label=\"空の輪郭表示\"),\n",
        "        gr.Image(label=\"空の領域マスク\")\n",
        "    ],\n",
        "    examples=[\n",
        "    [\"https://github.com/1900690/grape-sky-segmentation/releases/download/sample/sample.jpg\", 255, 200, 255, 200, 255, 200]\n",
        "    ],\n",
        "    allow_flagging='never',\n",
        "    title=\"画像から開空率測定アプリ\",\n",
        "    description=\"画像の空にあたる色をRGBで指定することで空の割合を計算します。\",\n",
        "    article=\"Copyright (c) 2025 risa iwase  Released under the MIT license  https://opensource.org/licenses/mit-license.php\"\n",
        ")\n",
        "\n",
        "\n",
        "app.launch()"
      ],
      "metadata": {
        "colab": {
          "base_uri": "https://localhost:8080/",
          "height": 685
        },
        "id": "C0kMMA5BRp6g",
        "outputId": "50f4c581-6eff-4471-e912-888c62f45426"
      },
      "execution_count": null,
      "outputs": [
        {
          "output_type": "stream",
          "name": "stderr",
          "text": [
            "/usr/local/lib/python3.11/dist-packages/gradio/interface.py:419: UserWarning: The `allow_flagging` parameter in `Interface` is deprecated.Use `flagging_mode` instead.\n",
            "  warnings.warn(\n"
          ]
        },
        {
          "output_type": "stream",
          "name": "stdout",
          "text": [
            "It looks like you are running Gradio on a hosted Jupyter notebook, which requires `share=True`. Automatically setting `share=True` (you can turn this off by setting `share=False` in `launch()` explicitly).\n",
            "\n",
            "Colab notebook detected. To show errors in colab notebook, set debug=True in launch()\n",
            "* Running on public URL: https://069578a63bc76b58c1.gradio.live\n",
            "\n",
            "This share link expires in 1 week. For free permanent hosting and GPU upgrades, run `gradio deploy` from the terminal in the working directory to deploy to Hugging Face Spaces (https://huggingface.co/spaces)\n"
          ]
        },
        {
          "output_type": "display_data",
          "data": {
            "text/plain": [
              "<IPython.core.display.HTML object>"
            ],
            "text/html": [
              "<div><iframe src=\"https://069578a63bc76b58c1.gradio.live\" width=\"100%\" height=\"500\" allow=\"autoplay; camera; microphone; clipboard-read; clipboard-write;\" frameborder=\"0\" allowfullscreen></iframe></div>"
            ]
          },
          "metadata": {}
        },
        {
          "output_type": "execute_result",
          "data": {
            "text/plain": []
          },
          "metadata": {},
          "execution_count": 35
        }
      ]
    },
    {
      "cell_type": "markdown",
      "source": [
        "#ナスLAIアプリをgradio化してみると"
      ],
      "metadata": {
        "id": "6brjDr55ev6L"
      }
    },
    {
      "cell_type": "code",
      "source": [
        "import cv2\n",
        "import numpy as np\n",
        "import gradio as gr\n",
        "import matplotlib.pyplot as plt\n",
        "from scipy.signal import find_peaks\n",
        "\n",
        "# ====== リサイズユーティリティ ======\n",
        "    \"\"\"縦横比を保って画像を指定サイズ以下にリサイズする関数を定義\"\"\"\n",
        "def resize_with_aspect_ratio(image, target_width=1108, target_height=1478):\n",
        "    #入力画像の高さhと幅wを取得する\n",
        "    h, w = image.shape[:2]\n",
        "    #幅方向のスケール倍率（目標幅に合わせるための倍率）を計算。\n",
        "    scale_w = target_width / w\n",
        "    #高さ方向のスケール倍率（目標高さに合わせるための倍率）を計算。\n",
        "    scale_h = target_height / h\n",
        "    #幅・高さ両方を満たすため小さい方の倍率を選ぶ（縦横比維持）。\n",
        "    scale = min(scale_w, scale_h)\n",
        "    #新しい幅を整数化して計算。\n",
        "    new_w = int(w * scale)\n",
        "    #新しい高さを整数化して計算。\n",
        "    new_h = int(h * scale)\n",
        "    #OpenCVで実際にリサイズ（INTER_AREAは縮小時に適した補間）。\n",
        "    resized = cv2.resize(image, (new_w, new_h), interpolation=cv2.INTER_AREA)\n",
        "    #リサイズ済み画像を返す。\n",
        "    return resized\n",
        "\n",
        "# ====== 画像解析ユーティリティ ======\n",
        "    \"\"\"HSV画像から自動で葉色のHue範囲を推定して返す関数を定義\"\"\"\n",
        "def auto_leaf_range_from_hist(hsv, s_thresh=40, v_thresh=40):\n",
        "    #彩度と明度が閾値を超えるピクセルだけを真にするブールマスクを作成\n",
        "    mask_sv = (hsv[:, :, 1] > s_thresh) & (hsv[:, :, 2] > v_thresh)\n",
        "    #条件を満たすピクセルのHue（色相）値のみ抽出\n",
        "    hue_values = hsv[:, :, 0][mask_sv]\n",
        "    #Hue値のヒストグラムを180の区画範囲で作成（hueは0～180まで）。\n",
        "    hist_h, _ = np.histogram(hue_values, bins=180, range=(0, 180))\n",
        "    #ヒストグラムのピークを検出。ピークの高さは最大値の30%以上を条件にしている。\n",
        "    peaks, _ = find_peaks(hist_h, height=np.max(hist_h) * 0.3)\n",
        "    #ピークが検出できなかった場合の条件分岐,ピーク無しならデフォルトの下限/上限（Hue:25〜90, S:40〜255, V:40〜255）を返す。\n",
        "    if len(peaks) == 0:\n",
        "        return np.array([25, 40, 40]), np.array([90, 255, 255])\n",
        "    #検出したピークのうち最も小さいインデックス（最も左のピーク）を選ぶ\n",
        "    main_peak = peaks[np.argmin(peaks)]\n",
        "    #主ピークの左側に15の余裕を取りつつ下限を0未満にならないように制限。\n",
        "    hue_min = max(0, main_peak - 15)\n",
        "    #主ピークの右側に15の余裕を取りつつ上限を179を超えないように制限。\n",
        "    hue_max = min(179, main_peak + 15)\n",
        "    # 推定した下限・上限のHSV配列（Hue範囲とS/Vの固定閾値）を返す。\n",
        "    return np.array([hue_min, 40, 40]), np.array([hue_max, 255, 255])\n",
        "\n",
        "    \"\"\"Hue値配列からヒストグラム画像を作る関数を定義\"\"\"\n",
        "def generate_hue_histogram(hue_values, h_min, h_max):\n",
        "    #与えられたHue値で180区画範囲のヒストグラムを作成。\n",
        "    hist_h, _ = np.histogram(hue_values, bins=180, range=(0, 180))\n",
        "    #matplotlibで図と軸を作成（幅6インチ×高さ3インチ）。\n",
        "    fig, ax = plt.subplots(figsize=(6, 3))\n",
        "    #ヒストグラムを線グラフとしてプロット（色は緑）。\n",
        "    ax.plot(hist_h, color='g')\n",
        "    #ヒストグラム上の選択範囲（h_min〜h_max）を半透明の黄色で塗る。\n",
        "    ax.axvspan(h_min, h_max, color='y', alpha=0.3, label='selection range')\n",
        "    #グラフタイトルを設定。\n",
        "    ax.set_title('Hue Histogram')\n",
        "    #凡例を表示\n",
        "    ax.legend()\n",
        "    #図のレンダリングを実行（キャンバスに描画）。\n",
        "    fig.canvas.draw()\n",
        "    #レンダラのRGBAバッファをNumPy配列に取り出し、画像として扱える形にする。\n",
        "    hist_img = np.array(fig.canvas.renderer.buffer_rgba())\n",
        "    # メモリ節約のために図を閉じる。\n",
        "    plt.close(fig)\n",
        "    #RGBA画像配列を返す\n",
        "    return hist_img\n",
        "\n",
        "    \"\"\"入力画像とHSV閾値を受け取り、マスク生成・LAI計算・ヒストグラム出力を行う主要処理関数を定義。\"\"\"\n",
        "def process_image(image, h_min, h_max, s_min, v_min):\n",
        "    #まず画像を関数でリサイズして扱いやすくする。\n",
        "    image = resize_with_aspect_ratio(image)\n",
        "    #Gradioからの画像はRGBなので一度BGRに変換し、その後HSV色空間に変換してhsvを作る（OpenCVはBGR基準）。\n",
        "    hsv = cv2.cvtColor(cv2.cvtColor(image, cv2.COLOR_RGB2BGR), cv2.COLOR_BGR2HSV)\n",
        "\n",
        "    #マスク下限のHSV配列を作成。\n",
        "    lower_bound = np.array([h_min, s_min, v_min])\n",
        "    #マスク上限（Hueはh_max、S/Vは255固定の上限）を作成。\n",
        "    upper_bound = np.array([h_max, 255, 255])\n",
        "    #指定HSV範囲に入るピクセルを白(255)、それ以外を黒(0)にしたバイナリマスクを作成。\n",
        "    mask = cv2.inRange(hsv, lower_bound, upper_bound)\n",
        "\n",
        "    #参照画像（キャリブレーション）でのピクセル数を格納する定数:基準画像のピクセル数（picasosから抽出）\n",
        "    reference_pixel_count = 1636516\n",
        "    #参照時の1ピクセル当たりの面積（単位不記載）を格納する定数:基準画像の１ピクセル当たりの面積（picasosから抽出）\n",
        "    area_per_pixel_ref = 2.170139\n",
        "\n",
        "    #マスクで白（対象）になっているピクセル数を数える（葉のピクセル数）。\n",
        "    leaf_pixels = int(np.count_nonzero(mask))\n",
        "    #マスク全体のピクセル総数（画像サイズに相当）を取得。\n",
        "    total_pixels = mask.size\n",
        "    # LAIの値を計算する式：葉ピクセル数×ピクセル面積（百万でm2）に、画像サイズ比（total_pixels / reference_pixel_count）を掛けて補正している。\n",
        "    LAI_rate = (leaf_pixels * area_per_pixel_ref) / 1_000_000 * (total_pixels / reference_pixel_count)\n",
        "    #計算結果を短い文字列に整形（有効数字3桁相当の表示）。\n",
        "    result_text = f\"葉のLAI: {LAI_rate:.3g}\"\n",
        "\n",
        "    #彩度・明度が40より大きいピクセルのHue値を抽出（ヒストグラム作成用）。\n",
        "    hue_values = hsv[:, :, 0][(hsv[:, :, 1] > 40) & (hsv[:, :, 2] > 40)]\n",
        "    #上で抽出したHue値と現在のHue閾値でヒストグラム画像を生成。\n",
        "    hist_img = generate_hue_histogram(hue_values, h_min, h_max)\n",
        "\n",
        "    #計算したLAIの文字列,スクをGray→RGB変換して3チャンネル画像としたもの,作成したヒストグラム画像（RGBA配列）を返す。\n",
        "    return (\n",
        "        result_text,\n",
        "        cv2.cvtColor(mask, cv2.COLOR_GRAY2RGB),\n",
        "        hist_img\n",
        "    )\n",
        "\n",
        "    \"\"\"画像を受け取って、スライダーの初期値（自動検出されたHSV閾値）を返す関数を定義。\"\"\"\n",
        "def init_sliders(image):\n",
        "    #スライダー初期化関数内でもリサイズして一貫性を保つ。\n",
        "    image = resize_with_aspect_ratio(image)\n",
        "    #リサイズ済画像をRGB→BGR→HSVへ変換してhsvを作る。\n",
        "    hsv = cv2.cvtColor(cv2.cvtColor(image, cv2.COLOR_RGB2BGR), cv2.COLOR_BGR2HSV)\n",
        "    #先述の自動推定関数で下限と上限のHSV配列を得る。\n",
        "    lower, upper = auto_leaf_range_from_hist(hsv)\n",
        "    #スライダー用にHue下限・Hue上限・S下限・V下限を整数で返す（順序はh_min, h_max, s_min, v_min）。\n",
        "    return int(lower[0]), int(upper[0]), int(lower[1]), int(lower[2])\n",
        "\n",
        "# ====== Gradio UI ======\n",
        "\"\"\"gradioで表示するためのブロック\"\"\"\n",
        "with gr.Blocks(title=\"葉のLAI計算アプリ\") as demo:\n",
        "    gr.Markdown(\"## アップロードした画像からLAIを計算します。\")\n",
        "\n",
        "    with gr.Row():\n",
        "        with gr.Column():\n",
        "            img_input = gr.Image(type=\"numpy\", label=\"画像をアップロード\")\n",
        "\n",
        "            btn_run = gr.Button(\"解析する\", variant=\"primary\")\n",
        "\n",
        "            with gr.Accordion(\"うまく検出できない場合の微調整用\", open=False):\n",
        "                gr.Markdown(\"HSV色空間で値を調整する（抽出したHueヒストグラムの山をきれいに挟むように色相の上限と下限を調整してください）\")\n",
        "                h_min_slider = gr.Slider(0, 179, step=1, label=\"色相の下限\")\n",
        "                h_max_slider = gr.Slider(0, 179, step=1, label=\"色相の上限\")\n",
        "                s_min_slider = gr.Slider(0, 255, step=1, label=\"彩度の下限\")\n",
        "                v_min_slider = gr.Slider(0, 255, step=1, label=\"明度の下限\")\n",
        "\n",
        "            gr.Examples(\n",
        "                examples=[\n",
        "                    [\"https://github.com/1900690/eggplant-LAI/releases/download/samle-images/kijun.JPG\"],\n",
        "                    [\"https://github.com/1900690/eggplant-LAI/releases/download/samle-images/200.jpg\"]\n",
        "                ],\n",
        "                inputs=img_input,\n",
        "                label=\"画像例\",\n",
        "                cache_examples=False\n",
        "            )\n",
        "\n",
        "        with gr.Column():\n",
        "            json_output = gr.Label(label=\"LAIの計算結果\")\n",
        "            mask_output = gr.Image(type=\"numpy\", label=\"葉のマスク画像（葉が白、それ以外黒）\")\n",
        "            hist_output = gr.Image(type=\"numpy\", label=\"抽出したHueヒストグラムの範囲\")\n",
        "\n",
        "    img_input.change(\n",
        "        fn=init_sliders,\n",
        "        inputs=img_input,\n",
        "        outputs=[h_min_slider, h_max_slider, s_min_slider, v_min_slider]\n",
        "    )\n",
        "\n",
        "    btn_run.click(\n",
        "        fn=process_image,\n",
        "        inputs=[img_input, h_min_slider, h_max_slider, s_min_slider, v_min_slider],\n",
        "        outputs=[json_output, mask_output, hist_output]\n",
        "    )\n",
        "\n",
        "    gr.Markdown(\n",
        "        \"\"\"\n",
        "        ---\n",
        "        <small>Copyright (c) 2025 risa iwase\n",
        "        Released under the MIT license\n",
        "        <a href=\"https://opensource.org/licenses/mit-license.php\" target=\"_blank\">https://opensource.org/licenses/mit-license.php</a></small>\n",
        "        \"\"\"\n",
        "    )\n",
        "\n",
        "if __name__ == \"__main__\":\n",
        "    demo.launch()"
      ],
      "metadata": {
        "id": "a2Y0xDDxcD8H"
      },
      "execution_count": null,
      "outputs": []
    },
    {
      "cell_type": "markdown",
      "source": [
        "#画像からカラーヒストグラを作成するアプリをgradio化してみると"
      ],
      "metadata": {
        "id": "qQLTT9eDMNn_"
      }
    },
    {
      "cell_type": "code",
      "source": [
        "import gradio as gr\n",
        "import cv2\n",
        "import numpy as np\n",
        "import matplotlib.pyplot as plt\n",
        "from PIL import Image\n",
        "import pandas as pd\n",
        "import os\n",
        "from uuid import uuid4\n",
        "\n",
        "def calculate_histograms(image_rgb):\n",
        "    \"\"\"RGB画像から各チャンネルのヒストグラムを計算する\"\"\"\n",
        "    colors = ['Red', 'Green', 'Blue']\n",
        "    hist_data = {\n",
        "        col: cv2.calcHist([image_rgb], [i], None, [256], [0, 256]).flatten()\n",
        "        for i, col in enumerate(colors)\n",
        "    }\n",
        "    return hist_data\n",
        "\n",
        "def plot_histogram(hist_data):\n",
        "    \"\"\"ヒストグラムデータをプロットしてmatplotlibのFigureを返す\"\"\"\n",
        "    fig = plt.figure(figsize=(6, 4))\n",
        "    for col in hist_data:\n",
        "        plt.plot(hist_data[col], color=col.lower())\n",
        "    plt.title(\"RGB Color Histogram\")\n",
        "    plt.xlabel(\"Pixel Value\")\n",
        "    plt.ylabel(\"Frequency\")\n",
        "    return fig\n",
        "\n",
        "def figure_to_image(fig):\n",
        "    \"\"\"matplotlibのFigureをPIL画像に変換\"\"\"\n",
        "    fig.canvas.draw()\n",
        "    w, h = fig.canvas.get_width_height()\n",
        "    img_np = np.frombuffer(fig.canvas.buffer_rgba(), dtype=np.uint8).reshape((h, w, 4))\n",
        "    plt.close(fig)\n",
        "    return Image.fromarray(cv2.cvtColor(img_np, cv2.COLOR_RGBA2RGB))\n",
        "\n",
        "def save_histogram_csv(hist_data):\n",
        "    \"\"\"ヒストグラムデータをCSVとして保存し、ファイルパスを返す\"\"\"\n",
        "    df = pd.DataFrame(hist_data)\n",
        "    df.index.name = \"Pixel Value\"\n",
        "    csv_path = f\"/tmp/histogram_{uuid4().hex}.csv\"\n",
        "    df.to_csv(csv_path)\n",
        "    return csv_path\n",
        "\n",
        "def create_histogram_and_csv(image):\n",
        "    \"\"\"Gradioから呼び出されるメイン処理\"\"\"\n",
        "    image_rgb = cv2.cvtColor(image, cv2.COLOR_BGR2RGB)\n",
        "    hist_data = calculate_histograms(image_rgb)\n",
        "    fig = plot_histogram(hist_data)\n",
        "    histogram_img = figure_to_image(fig)\n",
        "    csv_path = save_histogram_csv(hist_data)\n",
        "    return histogram_img, csv_path\n",
        "\n",
        "# Gradio インターフェース\n",
        "demo = gr.Interface(\n",
        "    fn=create_histogram_and_csv,\n",
        "    inputs=gr.Image(type=\"numpy\", label=\"画像をアップロードする\"),\n",
        "    outputs=[\n",
        "        gr.Image(type=\"pil\", label=\"RGB ヒストグラム\"),\n",
        "        gr.File(label=\"ヒストグラムのCSVをダウンロード\")\n",
        "    ],\n",
        "    examples=[\n",
        "        [\"https://github.com/1900690/eggplant-LAI/releases/download/samle-images/kijun.JPG\"],\n",
        "        [\"https://github.com/1900690/eggplant-LAI/releases/download/samle-images/200.jpg\"]\n",
        "    ],\n",
        "    title=\"RGBヒストグラム生成ツール\",\n",
        "    description=\"画像をアップロードしてそのRGBヒストグラムを表示し、またヒストグラムの値をCSVファイルとしてダウンロードできます。\",\n",
        "    article=\"Copyright (c) 2025 risa iwase  Released under the MIT license  https://opensource.org/licenses/mit-license.php\"\n",
        ")\n",
        "\n",
        "demo.launch()"
      ],
      "metadata": {
        "colab": {
          "base_uri": "https://localhost:8080/",
          "height": 649
        },
        "id": "MK_jSku0MY7U",
        "outputId": "4b6b1b01-1769-4878-ad75-07ee1dbcc9f1"
      },
      "execution_count": null,
      "outputs": [
        {
          "output_type": "stream",
          "name": "stdout",
          "text": [
            "It looks like you are running Gradio on a hosted Jupyter notebook, which requires `share=True`. Automatically setting `share=True` (you can turn this off by setting `share=False` in `launch()` explicitly).\n",
            "\n",
            "Colab notebook detected. To show errors in colab notebook, set debug=True in launch()\n",
            "* Running on public URL: https://60524e8d408a298b7f.gradio.live\n",
            "\n",
            "This share link expires in 1 week. For free permanent hosting and GPU upgrades, run `gradio deploy` from the terminal in the working directory to deploy to Hugging Face Spaces (https://huggingface.co/spaces)\n"
          ]
        },
        {
          "output_type": "display_data",
          "data": {
            "text/plain": [
              "<IPython.core.display.HTML object>"
            ],
            "text/html": [
              "<div><iframe src=\"https://60524e8d408a298b7f.gradio.live\" width=\"100%\" height=\"500\" allow=\"autoplay; camera; microphone; clipboard-read; clipboard-write;\" frameborder=\"0\" allowfullscreen></iframe></div>"
            ]
          },
          "metadata": {}
        },
        {
          "output_type": "execute_result",
          "data": {
            "text/plain": []
          },
          "metadata": {},
          "execution_count": 3
        }
      ]
    },
    {
      "cell_type": "markdown",
      "source": [
        "#画像とそのマスク画像から重なりを抽出するアプリをgradio化してみると"
      ],
      "metadata": {
        "id": "AduVILRoXATq"
      }
    },
    {
      "cell_type": "code",
      "source": [
        "import gradio as gr\n",
        "import numpy as np\n",
        "import cv2\n",
        "\n",
        "def extract_mask_transparent(image, mask):\n",
        "    if image is None or mask is None:\n",
        "        return None\n",
        "\n",
        "    # 画像が3チャンネル(RGB)であることを保証\n",
        "    if image.shape[2] == 4:\n",
        "        image = image[:, :, :3]\n",
        "\n",
        "    # マスク画像をグレースケール化\n",
        "    if len(mask.shape) == 3:\n",
        "        mask_gray = cv2.cvtColor(mask, cv2.COLOR_RGB2GRAY)\n",
        "    else:\n",
        "        mask_gray = mask\n",
        "\n",
        "    # マスクの白い部分(=255)を不透明、それ以外を透明にしたアルファチャンネルを作成\n",
        "    _, mask_bin = cv2.threshold(mask_gray, 127, 255, cv2.THRESH_BINARY)\n",
        "    alpha = mask_bin.astype(np.uint8)\n",
        "\n",
        "    # RGBA画像を作成\n",
        "    rgba = cv2.cvtColor(image, cv2.COLOR_RGB2RGBA)\n",
        "    rgba[:, :, 3] = alpha\n",
        "\n",
        "    return rgba\n",
        "\n",
        "iface = gr.Interface(\n",
        "    fn=extract_mask_transparent,\n",
        "    inputs=[\n",
        "        gr.Image(type=\"numpy\", label=\"元画像をアップロード\"),\n",
        "        gr.Image(type=\"numpy\", label=\"マスク画像をアップロード\")\n",
        "    ],\n",
        "    outputs=gr.Image(type=\"numpy\", label=\"マスク重なり部分\"),\n",
        "    examples=[\n",
        "        [\"https://github.com/1900690/eggplant-LAI/releases/download/samle-images/200.jpg\",\"https://github.com/1900690/eggplant-LAI/releases/download/samle-images/200mask.jpg\"],\n",
        "    ],\n",
        "    title=\"画像とマスクの重なり部分抽出ツール\",\n",
        "    description=\"画像とマスクの重なり部分を抽出してダウンロードできます\",\n",
        "    article=\"Copyright (c) 2025 risa iwase  Released under the MIT license  https://opensource.org/licenses/mit-license.php\",\n",
        "    allow_flagging=\"never\"\n",
        ")\n",
        "\n",
        "if __name__ == \"__main__\":\n",
        "    iface.launch()"
      ],
      "metadata": {
        "id": "ZGvFCo4wbGH1"
      },
      "execution_count": null,
      "outputs": []
    }
  ]
}